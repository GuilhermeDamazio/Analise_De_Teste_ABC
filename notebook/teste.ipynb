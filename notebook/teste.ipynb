{
 "cells": [
  {
   "cell_type": "markdown",
   "id": "e6745174",
   "metadata": {},
   "source": [
    "## Análise de Teste ABC\n",
    "\n",
    "Durante esse projeto iremos visualizar as informações de duas maneiras diferentes. A ideia é utilizar a biblioteca **pandas** e **pandasql**.\n",
    "O Pandas é uma biblioteca própria usada para manipulação e análise de dados extremamente útil. A ideia de utilizar o Pandasql era uma recomendação do case técnico para realizar as consultas nos Dataframes usando a sintaxe do SQL."
   ]
  },
  {
   "cell_type": "markdown",
   "id": "ef4c19e5",
   "metadata": {},
   "source": [
    "#### Importação das bibliotecas usadas no projeto:"
   ]
  },
  {
   "cell_type": "code",
   "execution_count": 4,
   "id": "9992afd4",
   "metadata": {},
   "outputs": [],
   "source": [
    "import pandas as pd\n",
    "from pandasql import sqldf as ps\n",
    "import unicodedata\n",
    "import matplotlib.pyplot as plt"
   ]
  },
  {
   "cell_type": "markdown",
   "id": "1de9ede4",
   "metadata": {},
   "source": [
    "#### Criação dos dataframes iniciais ####"
   ]
  },
  {
   "cell_type": "code",
   "execution_count": 5,
   "id": "030a17da",
   "metadata": {},
   "outputs": [],
   "source": [
    "listaDeClientes = pd.read_csv('../dataset/clientes.csv')\n",
    "listaDeProdutos = pd.read_csv('../dataset/produtos.csv')\n",
    "listaDePedidos = pd.read_csv('../dataset/pedidos.csv')\n",
    "listaDeItensPedidos = pd.read_csv('../dataset/itens_pedido.csv')"
   ]
  },
  {
   "cell_type": "markdown",
   "id": "08b2d2b2",
   "metadata": {},
   "source": [
    "#### Pequena sessão apenas para testar o notebook e os dataframes"
   ]
  },
  {
   "cell_type": "code",
   "execution_count": 6,
   "id": "5f77f63d",
   "metadata": {},
   "outputs": [
    {
     "data": {
      "text/html": [
       "<div>\n",
       "<style scoped>\n",
       "    .dataframe tbody tr th:only-of-type {\n",
       "        vertical-align: middle;\n",
       "    }\n",
       "\n",
       "    .dataframe tbody tr th {\n",
       "        vertical-align: top;\n",
       "    }\n",
       "\n",
       "    .dataframe thead th {\n",
       "        text-align: right;\n",
       "    }\n",
       "</style>\n",
       "<table border=\"1\" class=\"dataframe\">\n",
       "  <thead>\n",
       "    <tr style=\"text-align: right;\">\n",
       "      <th></th>\n",
       "      <th>cliente_id</th>\n",
       "      <th>nome</th>\n",
       "      <th>email</th>\n",
       "      <th>data_cadastro</th>\n",
       "      <th>cidade</th>\n",
       "      <th>estado</th>\n",
       "      <th>grupo</th>\n",
       "    </tr>\n",
       "  </thead>\n",
       "  <tbody>\n",
       "    <tr>\n",
       "      <th>0</th>\n",
       "      <td>12414</td>\n",
       "      <td>Pedro Lucas Almeida</td>\n",
       "      <td>pintogabriela@example.net</td>\n",
       "      <td>2022-09-17</td>\n",
       "      <td>Maranhao</td>\n",
       "      <td>SE</td>\n",
       "      <td>A</td>\n",
       "    </tr>\n",
       "    <tr>\n",
       "      <th>1</th>\n",
       "      <td>77301</td>\n",
       "      <td>João Miguel Jesus</td>\n",
       "      <td>stephany90@example.com</td>\n",
       "      <td>2021-11-17</td>\n",
       "      <td>Rio</td>\n",
       "      <td>AL</td>\n",
       "      <td>A</td>\n",
       "    </tr>\n",
       "    <tr>\n",
       "      <th>2</th>\n",
       "      <td>40685</td>\n",
       "      <td>Antônio Viana</td>\n",
       "      <td>lda-cunha@example.com</td>\n",
       "      <td>2021-11-18</td>\n",
       "      <td>Maranhão</td>\n",
       "      <td>RS</td>\n",
       "      <td>C</td>\n",
       "    </tr>\n",
       "    <tr>\n",
       "      <th>3</th>\n",
       "      <td>27481</td>\n",
       "      <td>Ana Luiza da Conceição</td>\n",
       "      <td>cardosomaria-julia@example.net</td>\n",
       "      <td>2024-06-11</td>\n",
       "      <td>Sao Paulo</td>\n",
       "      <td>DF</td>\n",
       "      <td>C</td>\n",
       "    </tr>\n",
       "    <tr>\n",
       "      <th>4</th>\n",
       "      <td>47354</td>\n",
       "      <td>Arthur Gomes</td>\n",
       "      <td>luiz-otaviocampos@example.com</td>\n",
       "      <td>2021-08-12</td>\n",
       "      <td>Goiania</td>\n",
       "      <td>MG</td>\n",
       "      <td>C</td>\n",
       "    </tr>\n",
       "  </tbody>\n",
       "</table>\n",
       "</div>"
      ],
      "text/plain": [
       "   cliente_id                    nome                           email  \\\n",
       "0       12414     Pedro Lucas Almeida       pintogabriela@example.net   \n",
       "1       77301       João Miguel Jesus          stephany90@example.com   \n",
       "2       40685           Antônio Viana           lda-cunha@example.com   \n",
       "3       27481  Ana Luiza da Conceição  cardosomaria-julia@example.net   \n",
       "4       47354            Arthur Gomes   luiz-otaviocampos@example.com   \n",
       "\n",
       "  data_cadastro     cidade estado grupo  \n",
       "0    2022-09-17   Maranhao     SE     A  \n",
       "1    2021-11-17        Rio     AL     A  \n",
       "2    2021-11-18   Maranhão     RS     C  \n",
       "3    2024-06-11  Sao Paulo     DF     C  \n",
       "4    2021-08-12    Goiania     MG     C  "
      ]
     },
     "execution_count": 6,
     "metadata": {},
     "output_type": "execute_result"
    }
   ],
   "source": [
    "listaDeClientes.head(5)"
   ]
  },
  {
   "cell_type": "code",
   "execution_count": 7,
   "id": "54179e4f",
   "metadata": {},
   "outputs": [
    {
     "data": {
      "text/html": [
       "<div>\n",
       "<style scoped>\n",
       "    .dataframe tbody tr th:only-of-type {\n",
       "        vertical-align: middle;\n",
       "    }\n",
       "\n",
       "    .dataframe tbody tr th {\n",
       "        vertical-align: top;\n",
       "    }\n",
       "\n",
       "    .dataframe thead th {\n",
       "        text-align: right;\n",
       "    }\n",
       "</style>\n",
       "<table border=\"1\" class=\"dataframe\">\n",
       "  <thead>\n",
       "    <tr style=\"text-align: right;\">\n",
       "      <th></th>\n",
       "      <th>produto_id</th>\n",
       "      <th>preco</th>\n",
       "      <th>categoria</th>\n",
       "    </tr>\n",
       "  </thead>\n",
       "  <tbody>\n",
       "    <tr>\n",
       "      <th>0</th>\n",
       "      <td>3659</td>\n",
       "      <td>992.38</td>\n",
       "      <td>Eletrônicos</td>\n",
       "    </tr>\n",
       "    <tr>\n",
       "      <th>1</th>\n",
       "      <td>1568</td>\n",
       "      <td>170.59</td>\n",
       "      <td>Roupas</td>\n",
       "    </tr>\n",
       "    <tr>\n",
       "      <th>2</th>\n",
       "      <td>2382</td>\n",
       "      <td>336.87</td>\n",
       "      <td>Decoraçao</td>\n",
       "    </tr>\n",
       "    <tr>\n",
       "      <th>3</th>\n",
       "      <td>1016</td>\n",
       "      <td>951.66</td>\n",
       "      <td>Decoraçao</td>\n",
       "    </tr>\n",
       "    <tr>\n",
       "      <th>4</th>\n",
       "      <td>1550</td>\n",
       "      <td>587.50</td>\n",
       "      <td>Eletrônicos</td>\n",
       "    </tr>\n",
       "  </tbody>\n",
       "</table>\n",
       "</div>"
      ],
      "text/plain": [
       "   produto_id   preco    categoria\n",
       "0        3659  992.38  Eletrônicos\n",
       "1        1568  170.59       Roupas\n",
       "2        2382  336.87    Decoraçao\n",
       "3        1016  951.66    Decoraçao\n",
       "4        1550  587.50  Eletrônicos"
      ]
     },
     "execution_count": 7,
     "metadata": {},
     "output_type": "execute_result"
    }
   ],
   "source": [
    "listaDeProdutos.head(5)"
   ]
  },
  {
   "cell_type": "code",
   "execution_count": 8,
   "id": "f3243451",
   "metadata": {},
   "outputs": [
    {
     "data": {
      "text/html": [
       "<div>\n",
       "<style scoped>\n",
       "    .dataframe tbody tr th:only-of-type {\n",
       "        vertical-align: middle;\n",
       "    }\n",
       "\n",
       "    .dataframe tbody tr th {\n",
       "        vertical-align: top;\n",
       "    }\n",
       "\n",
       "    .dataframe thead th {\n",
       "        text-align: right;\n",
       "    }\n",
       "</style>\n",
       "<table border=\"1\" class=\"dataframe\">\n",
       "  <thead>\n",
       "    <tr style=\"text-align: right;\">\n",
       "      <th></th>\n",
       "      <th>pedido_id</th>\n",
       "      <th>cliente_id</th>\n",
       "      <th>data_pedido</th>\n",
       "      <th>status</th>\n",
       "      <th>valor_total</th>\n",
       "    </tr>\n",
       "  </thead>\n",
       "  <tbody>\n",
       "    <tr>\n",
       "      <th>0</th>\n",
       "      <td>913239</td>\n",
       "      <td>27874</td>\n",
       "      <td>2024-01-05 12:56:17</td>\n",
       "      <td>Confirmado</td>\n",
       "      <td>6517</td>\n",
       "    </tr>\n",
       "    <tr>\n",
       "      <th>1</th>\n",
       "      <td>679493</td>\n",
       "      <td>77948</td>\n",
       "      <td>2023-11-15 18:41:09</td>\n",
       "      <td>Pending</td>\n",
       "      <td>3950</td>\n",
       "    </tr>\n",
       "    <tr>\n",
       "      <th>2</th>\n",
       "      <td>267663</td>\n",
       "      <td>23863</td>\n",
       "      <td>2024-04-08 14:04:47</td>\n",
       "      <td>Pending</td>\n",
       "      <td>3931</td>\n",
       "    </tr>\n",
       "    <tr>\n",
       "      <th>3</th>\n",
       "      <td>699688</td>\n",
       "      <td>79354</td>\n",
       "      <td>2024-06-25 17:10:28</td>\n",
       "      <td>Confirmado</td>\n",
       "      <td>1923</td>\n",
       "    </tr>\n",
       "    <tr>\n",
       "      <th>4</th>\n",
       "      <td>602702</td>\n",
       "      <td>36097</td>\n",
       "      <td>2023-08-21 17:46:05</td>\n",
       "      <td>Confirmado</td>\n",
       "      <td>125</td>\n",
       "    </tr>\n",
       "  </tbody>\n",
       "</table>\n",
       "</div>"
      ],
      "text/plain": [
       "   pedido_id  cliente_id          data_pedido      status  valor_total\n",
       "0     913239       27874  2024-01-05 12:56:17  Confirmado         6517\n",
       "1     679493       77948  2023-11-15 18:41:09     Pending         3950\n",
       "2     267663       23863  2024-04-08 14:04:47     Pending         3931\n",
       "3     699688       79354  2024-06-25 17:10:28  Confirmado         1923\n",
       "4     602702       36097  2023-08-21 17:46:05  Confirmado          125"
      ]
     },
     "execution_count": 8,
     "metadata": {},
     "output_type": "execute_result"
    }
   ],
   "source": [
    "listaDePedidos.head(5)"
   ]
  },
  {
   "cell_type": "code",
   "execution_count": 9,
   "id": "3c6c4429",
   "metadata": {},
   "outputs": [
    {
     "data": {
      "text/html": [
       "<div>\n",
       "<style scoped>\n",
       "    .dataframe tbody tr th:only-of-type {\n",
       "        vertical-align: middle;\n",
       "    }\n",
       "\n",
       "    .dataframe tbody tr th {\n",
       "        vertical-align: top;\n",
       "    }\n",
       "\n",
       "    .dataframe thead th {\n",
       "        text-align: right;\n",
       "    }\n",
       "</style>\n",
       "<table border=\"1\" class=\"dataframe\">\n",
       "  <thead>\n",
       "    <tr style=\"text-align: right;\">\n",
       "      <th></th>\n",
       "      <th>item_id</th>\n",
       "      <th>pedido_id</th>\n",
       "      <th>produto_id</th>\n",
       "      <th>quantidade</th>\n",
       "      <th>preco_unitario</th>\n",
       "      <th>subtotal</th>\n",
       "    </tr>\n",
       "  </thead>\n",
       "  <tbody>\n",
       "    <tr>\n",
       "      <th>0</th>\n",
       "      <td>6640203</td>\n",
       "      <td>913239</td>\n",
       "      <td>9866</td>\n",
       "      <td>2</td>\n",
       "      <td>959.88</td>\n",
       "      <td>1919.76</td>\n",
       "    </tr>\n",
       "    <tr>\n",
       "      <th>1</th>\n",
       "      <td>9470774</td>\n",
       "      <td>913239</td>\n",
       "      <td>7759</td>\n",
       "      <td>3</td>\n",
       "      <td>434.90</td>\n",
       "      <td>1304.70</td>\n",
       "    </tr>\n",
       "    <tr>\n",
       "      <th>2</th>\n",
       "      <td>2385349</td>\n",
       "      <td>913239</td>\n",
       "      <td>5205</td>\n",
       "      <td>3</td>\n",
       "      <td>898.72</td>\n",
       "      <td>2696.16</td>\n",
       "    </tr>\n",
       "    <tr>\n",
       "      <th>3</th>\n",
       "      <td>2437996</td>\n",
       "      <td>913239</td>\n",
       "      <td>9432</td>\n",
       "      <td>1</td>\n",
       "      <td>304.54</td>\n",
       "      <td>304.54</td>\n",
       "    </tr>\n",
       "    <tr>\n",
       "      <th>4</th>\n",
       "      <td>2264260</td>\n",
       "      <td>913239</td>\n",
       "      <td>2572</td>\n",
       "      <td>1</td>\n",
       "      <td>292.27</td>\n",
       "      <td>292.27</td>\n",
       "    </tr>\n",
       "  </tbody>\n",
       "</table>\n",
       "</div>"
      ],
      "text/plain": [
       "   item_id  pedido_id  produto_id  quantidade  preco_unitario  subtotal\n",
       "0  6640203     913239        9866           2          959.88   1919.76\n",
       "1  9470774     913239        7759           3          434.90   1304.70\n",
       "2  2385349     913239        5205           3          898.72   2696.16\n",
       "3  2437996     913239        9432           1          304.54    304.54\n",
       "4  2264260     913239        2572           1          292.27    292.27"
      ]
     },
     "execution_count": 9,
     "metadata": {},
     "output_type": "execute_result"
    }
   ],
   "source": [
    "listaDeItensPedidos.head(5)"
   ]
  },
  {
   "cell_type": "code",
   "execution_count": 10,
   "id": "69273640",
   "metadata": {},
   "outputs": [
    {
     "name": "stdout",
     "output_type": "stream",
     "text": [
      "cidade\n",
      "sao Paulo         266\n",
      "Sao Paulo         165\n",
      "Maranhao           92\n",
      "Belo Horizonte     92\n",
      "São Paulo          89\n",
      "Rio                87\n",
      "Curitiba           87\n",
      "Rio de Janeiro     84\n",
      "Goiania            83\n",
      "Maranhão           78\n",
      "Goiânia            77\n",
      "Name: count, dtype: int64\n"
     ]
    }
   ],
   "source": [
    "print(listaDeClientes['cidade'].value_counts())"
   ]
  },
  {
   "cell_type": "markdown",
   "id": "774b2979",
   "metadata": {},
   "source": [
    "Podemos verificar que dentro do arquivo há inconsistências em alguns dados. Normalmente isso ocorre por entradas manuais que podem acabar gerando distinções entre valores. Por isso, para padronizar os dados iremos criar uma função e um dicionário para usarmos no dataframe."
   ]
  },
  {
   "cell_type": "code",
   "execution_count": 11,
   "id": "b2dbbbb5",
   "metadata": {},
   "outputs": [],
   "source": [
    "\n",
    "\n",
    "# ---------------------------\n",
    "# Função para normalizar texto\n",
    "# ---------------------------\n",
    "def normalizar(texto):\n",
    "    if pd.isnull(texto):\n",
    "        return texto\n",
    "    texto = texto.strip().lower()\n",
    "    # Remove acentos\n",
    "    texto = ''.join(\n",
    "        c for c in unicodedata.normalize('NFD', texto)\n",
    "        if unicodedata.category(c) != 'Mn'\n",
    "    )\n",
    "    return texto\n",
    "\n",
    "# ---------------------------\n",
    "# Carrega o dataset\n",
    "# ---------------------------\n",
    "df = pd.read_csv(\"../dataset/clientes.csv\")\n",
    "\n",
    "# ---------------------------\n",
    "# Normalizar e padronizar a coluna 'cidade'\n",
    "# ---------------------------\n",
    "df[\"cidade_normalizada\"] = df[\"cidade\"].apply(normalizar)\n",
    "\n",
    "mapeamento_cidades = {\n",
    "    \"sao paulo\": \"Sao Paulo\",\n",
    "    \"rio de janeiro\": \"Rio de Janeiro\",\n",
    "    \"rio\": \"Rio de Janeiro\",\n",
    "    \"goiania\": \"Goiania\",\n",
    "    \"maranhao\": \"Maranhao\",\n",
    "}\n",
    "\n",
    "# Substitui a coluna original 'cidade' pelos nomes oficiais\n",
    "df[\"cidade\"] = df[\"cidade_normalizada\"].map(mapeamento_cidades).fillna(df[\"cidade_normalizada\"].str.title())\n",
    "\n",
    "# ---------------------------\n",
    "# Corrige a coluna 'estado' com base na cidade\n",
    "# ---------------------------\n",
    "cidade_para_estado = {\n",
    "    \"Sao Paulo\": \"SP\",\n",
    "    \"Rio de Janeiro\": \"RJ\",\n",
    "    \"Goiania\": \"GO\",\n",
    "    \"Maranhao\": \"MA\",\n",
    "    \"Belo Horizonte\": \"MG\",\n",
    "    \"Curitiba\": \"PR\",\n",
    "}\n",
    "\n",
    "# Atualiza a coluna 'estado' com o valor correto\n",
    "df[\"estado\"] = df[\"cidade\"].map(cidade_para_estado)\n",
    "\n",
    "# ---------------------------\n",
    "# Remove coluna auxiliar\n",
    "# ---------------------------\n",
    "df = df.drop(columns=[\"cidade_normalizada\"])"
   ]
  },
  {
   "cell_type": "code",
   "execution_count": 12,
   "id": "9a48ae80",
   "metadata": {},
   "outputs": [],
   "source": [
    "listaDeClientes2 = pd.read_csv('../dataset/cidades_corrigidas.csv')"
   ]
  },
  {
   "cell_type": "code",
   "execution_count": 13,
   "id": "1f9cc1b3",
   "metadata": {},
   "outputs": [
    {
     "name": "stdout",
     "output_type": "stream",
     "text": [
      "cidade\n",
      "Sao Paulo         520\n",
      "Rio de Janeiro    171\n",
      "Maranhao          170\n",
      "Goiania           160\n",
      "Belo Horizonte     92\n",
      "Curitiba           87\n",
      "Name: count, dtype: int64\n"
     ]
    }
   ],
   "source": [
    "print(listaDeClientes2['cidade'].value_counts())"
   ]
  },
  {
   "cell_type": "markdown",
   "id": "fc45da72",
   "metadata": {},
   "source": [
    "A partir deste momento iremos utilizar *listaDeClientes2* para consultar os valores com as cidades padronizadas."
   ]
  },
  {
   "cell_type": "code",
   "execution_count": 14,
   "id": "db225116",
   "metadata": {},
   "outputs": [
    {
     "name": "stdout",
     "output_type": "stream",
     "text": [
      "                     nome  cliente_id          cidade\n",
      "0     Pedro Lucas Almeida       12414        Maranhao\n",
      "1       João Miguel Jesus       77301  Rio de Janeiro\n",
      "2           Antônio Viana       40685        Maranhao\n",
      "3  Ana Luiza da Conceição       27481       Sao Paulo\n",
      "4            Arthur Gomes       47354         Goiania\n"
     ]
    }
   ],
   "source": [
    "print(ps('''SELECT nome, cliente_id, cidade \n",
    "FROM listaDeClientes2\n",
    "LIMIT 5'''))"
   ]
  },
  {
   "cell_type": "markdown",
   "id": "bf9b2dd2",
   "metadata": {},
   "source": [
    "## Hora de conhecermos mais informações sobre os dados!\n",
    "### A ideia é saber quantos clientes existem em cada grupo."
   ]
  },
  {
   "cell_type": "code",
   "execution_count": 15,
   "id": "a6ee2055",
   "metadata": {},
   "outputs": [
    {
     "data": {
      "text/plain": [
       "grupo\n",
       "A    413\n",
       "B    398\n",
       "C    389\n",
       "Name: count, dtype: int64"
      ]
     },
     "execution_count": 15,
     "metadata": {},
     "output_type": "execute_result"
    }
   ],
   "source": [
    "listaDeClientes2['grupo'].value_counts()"
   ]
  },
  {
   "cell_type": "code",
   "execution_count": 16,
   "id": "2efbc0e7",
   "metadata": {},
   "outputs": [
    {
     "data": {
      "text/html": [
       "<div>\n",
       "<style scoped>\n",
       "    .dataframe tbody tr th:only-of-type {\n",
       "        vertical-align: middle;\n",
       "    }\n",
       "\n",
       "    .dataframe tbody tr th {\n",
       "        vertical-align: top;\n",
       "    }\n",
       "\n",
       "    .dataframe thead th {\n",
       "        text-align: right;\n",
       "    }\n",
       "</style>\n",
       "<table border=\"1\" class=\"dataframe\">\n",
       "  <thead>\n",
       "    <tr style=\"text-align: right;\">\n",
       "      <th></th>\n",
       "      <th>cliente_id</th>\n",
       "      <th>nome</th>\n",
       "      <th>email</th>\n",
       "      <th>data_cadastro</th>\n",
       "      <th>cidade</th>\n",
       "      <th>estado</th>\n",
       "      <th>grupo</th>\n",
       "    </tr>\n",
       "  </thead>\n",
       "  <tbody>\n",
       "    <tr>\n",
       "      <th>10</th>\n",
       "      <td>35500</td>\n",
       "      <td>Kaique Rocha</td>\n",
       "      <td>fernandafreitas@example.com</td>\n",
       "      <td>2025-01-06</td>\n",
       "      <td>Maranhao</td>\n",
       "      <td>MA</td>\n",
       "      <td>B</td>\n",
       "    </tr>\n",
       "    <tr>\n",
       "      <th>14</th>\n",
       "      <td>96694</td>\n",
       "      <td>Pietro Alves</td>\n",
       "      <td>igorda-rosa@example.com</td>\n",
       "      <td>2021-10-25</td>\n",
       "      <td>Sao Paulo</td>\n",
       "      <td>SP</td>\n",
       "      <td>B</td>\n",
       "    </tr>\n",
       "    <tr>\n",
       "      <th>15</th>\n",
       "      <td>41781</td>\n",
       "      <td>Rodrigo Moraes</td>\n",
       "      <td>nogueiraleticia@example.org</td>\n",
       "      <td>2025-03-19</td>\n",
       "      <td>Curitiba</td>\n",
       "      <td>PR</td>\n",
       "      <td>B</td>\n",
       "    </tr>\n",
       "    <tr>\n",
       "      <th>16</th>\n",
       "      <td>16103</td>\n",
       "      <td>Vitor Gabriel da Paz</td>\n",
       "      <td>gustavo42@example.net</td>\n",
       "      <td>2023-12-04</td>\n",
       "      <td>Goiania</td>\n",
       "      <td>GO</td>\n",
       "      <td>B</td>\n",
       "    </tr>\n",
       "    <tr>\n",
       "      <th>18</th>\n",
       "      <td>58251</td>\n",
       "      <td>Rafaela Cardoso</td>\n",
       "      <td>nunesdiego@example.com</td>\n",
       "      <td>2022-03-07</td>\n",
       "      <td>Sao Paulo</td>\n",
       "      <td>SP</td>\n",
       "      <td>B</td>\n",
       "    </tr>\n",
       "  </tbody>\n",
       "</table>\n",
       "</div>"
      ],
      "text/plain": [
       "    cliente_id                  nome                        email  \\\n",
       "10       35500          Kaique Rocha  fernandafreitas@example.com   \n",
       "14       96694          Pietro Alves      igorda-rosa@example.com   \n",
       "15       41781        Rodrigo Moraes  nogueiraleticia@example.org   \n",
       "16       16103  Vitor Gabriel da Paz        gustavo42@example.net   \n",
       "18       58251       Rafaela Cardoso       nunesdiego@example.com   \n",
       "\n",
       "   data_cadastro     cidade estado grupo  \n",
       "10    2025-01-06   Maranhao     MA     B  \n",
       "14    2021-10-25  Sao Paulo     SP     B  \n",
       "15    2025-03-19   Curitiba     PR     B  \n",
       "16    2023-12-04    Goiania     GO     B  \n",
       "18    2022-03-07  Sao Paulo     SP     B  "
      ]
     },
     "execution_count": 16,
     "metadata": {},
     "output_type": "execute_result"
    }
   ],
   "source": [
    "listaDeClientes2[listaDeClientes2['grupo'] == 'B'].head()"
   ]
  },
  {
   "cell_type": "code",
   "execution_count": 17,
   "id": "b79215ac",
   "metadata": {},
   "outputs": [
    {
     "name": "stdout",
     "output_type": "stream",
     "text": [
      "   cliente_id                  nome grupo\n",
      "0       35500          Kaique Rocha     B\n",
      "1       96694          Pietro Alves     B\n",
      "2       41781        Rodrigo Moraes     B\n",
      "3       16103  Vitor Gabriel da Paz     B\n",
      "4       58251       Rafaela Cardoso     B\n"
     ]
    }
   ],
   "source": [
    "print(ps('''SELECT c.cliente_id, c.nome, c.grupo\n",
    "FROM listaDeClientes2 AS c\n",
    "WHERE grupo == 'B'\n",
    "LIMIT 5'''))"
   ]
  },
  {
   "cell_type": "code",
   "execution_count": 18,
   "id": "9399865e",
   "metadata": {},
   "outputs": [
    {
     "data": {
      "text/html": [
       "<div>\n",
       "<style scoped>\n",
       "    .dataframe tbody tr th:only-of-type {\n",
       "        vertical-align: middle;\n",
       "    }\n",
       "\n",
       "    .dataframe tbody tr th {\n",
       "        vertical-align: top;\n",
       "    }\n",
       "\n",
       "    .dataframe thead th {\n",
       "        text-align: right;\n",
       "    }\n",
       "</style>\n",
       "<table border=\"1\" class=\"dataframe\">\n",
       "  <thead>\n",
       "    <tr style=\"text-align: right;\">\n",
       "      <th></th>\n",
       "      <th>cliente_id</th>\n",
       "      <th>nome</th>\n",
       "      <th>email</th>\n",
       "      <th>data_cadastro</th>\n",
       "      <th>cidade</th>\n",
       "      <th>estado</th>\n",
       "      <th>grupo</th>\n",
       "    </tr>\n",
       "  </thead>\n",
       "  <tbody>\n",
       "    <tr>\n",
       "      <th>10</th>\n",
       "      <td>35500</td>\n",
       "      <td>Kaique Rocha</td>\n",
       "      <td>fernandafreitas@example.com</td>\n",
       "      <td>2025-01-06</td>\n",
       "      <td>Maranhao</td>\n",
       "      <td>MA</td>\n",
       "      <td>B</td>\n",
       "    </tr>\n",
       "    <tr>\n",
       "      <th>14</th>\n",
       "      <td>96694</td>\n",
       "      <td>Pietro Alves</td>\n",
       "      <td>igorda-rosa@example.com</td>\n",
       "      <td>2021-10-25</td>\n",
       "      <td>Sao Paulo</td>\n",
       "      <td>SP</td>\n",
       "      <td>B</td>\n",
       "    </tr>\n",
       "    <tr>\n",
       "      <th>15</th>\n",
       "      <td>41781</td>\n",
       "      <td>Rodrigo Moraes</td>\n",
       "      <td>nogueiraleticia@example.org</td>\n",
       "      <td>2025-03-19</td>\n",
       "      <td>Curitiba</td>\n",
       "      <td>PR</td>\n",
       "      <td>B</td>\n",
       "    </tr>\n",
       "    <tr>\n",
       "      <th>16</th>\n",
       "      <td>16103</td>\n",
       "      <td>Vitor Gabriel da Paz</td>\n",
       "      <td>gustavo42@example.net</td>\n",
       "      <td>2023-12-04</td>\n",
       "      <td>Goiania</td>\n",
       "      <td>GO</td>\n",
       "      <td>B</td>\n",
       "    </tr>\n",
       "    <tr>\n",
       "      <th>18</th>\n",
       "      <td>58251</td>\n",
       "      <td>Rafaela Cardoso</td>\n",
       "      <td>nunesdiego@example.com</td>\n",
       "      <td>2022-03-07</td>\n",
       "      <td>Sao Paulo</td>\n",
       "      <td>SP</td>\n",
       "      <td>B</td>\n",
       "    </tr>\n",
       "  </tbody>\n",
       "</table>\n",
       "</div>"
      ],
      "text/plain": [
       "    cliente_id                  nome                        email  \\\n",
       "10       35500          Kaique Rocha  fernandafreitas@example.com   \n",
       "14       96694          Pietro Alves      igorda-rosa@example.com   \n",
       "15       41781        Rodrigo Moraes  nogueiraleticia@example.org   \n",
       "16       16103  Vitor Gabriel da Paz        gustavo42@example.net   \n",
       "18       58251       Rafaela Cardoso       nunesdiego@example.com   \n",
       "\n",
       "   data_cadastro     cidade estado grupo  \n",
       "10    2025-01-06   Maranhao     MA     B  \n",
       "14    2021-10-25  Sao Paulo     SP     B  \n",
       "15    2025-03-19   Curitiba     PR     B  \n",
       "16    2023-12-04    Goiania     GO     B  \n",
       "18    2022-03-07  Sao Paulo     SP     B  "
      ]
     },
     "execution_count": 18,
     "metadata": {},
     "output_type": "execute_result"
    }
   ],
   "source": [
    "listaDeClientes2[listaDeClientes2['grupo'] == 'B'].head()"
   ]
  },
  {
   "cell_type": "markdown",
   "id": "e4ea0d89",
   "metadata": {},
   "source": [
    "## Vamos seguir para a 1° resposta desejada:\n",
    "- Qual grupo você escolheria para ser a nossa funcionalidade? Por quê?"
   ]
  },
  {
   "cell_type": "markdown",
   "id": "cb75bae2",
   "metadata": {},
   "source": [
    "Primeiro iremos realizar um merge entre as tabelas para obtermos as informações de valores dos pedidos e grupos dos clientes:"
   ]
  },
  {
   "cell_type": "code",
   "execution_count": 19,
   "id": "7b680eca",
   "metadata": {},
   "outputs": [
    {
     "name": "stdout",
     "output_type": "stream",
     "text": [
      "Index(['pedido_id', 'cliente_id', 'data_pedido', 'status', 'valor_total',\n",
      "       'nome', 'email', 'data_cadastro', 'cidade', 'estado', 'grupo'],\n",
      "      dtype='object')\n",
      "Index(['pedido_id', 'cliente_id', 'data_pedido', 'status', 'valor_total',\n",
      "       'nome', 'email', 'data_cadastro', 'cidade', 'estado', 'grupo',\n",
      "       'item_id', 'produto_id', 'quantidade', 'preco_unitario', 'subtotal'],\n",
      "      dtype='object')\n"
     ]
    }
   ],
   "source": [
    "clientes_Pedidos = pd.merge(listaDePedidos, listaDeClientes2, on='cliente_id', how='inner')\n",
    "print(clientes_Pedidos.columns)\n",
    "clientes_Com_Informacoes_Do_Pedido = pd.merge(clientes_Pedidos, listaDeItensPedidos, on='pedido_id', how='inner')\n",
    "print(clientes_Com_Informacoes_Do_Pedido.columns)"
   ]
  },
  {
   "cell_type": "markdown",
   "id": "0eee6cad",
   "metadata": {},
   "source": [
    "Com o merge realizado, podemos retirar nossas métricas:"
   ]
  },
  {
   "cell_type": "code",
   "execution_count": 20,
   "id": "674ddb03",
   "metadata": {},
   "outputs": [
    {
     "name": "stdout",
     "output_type": "stream",
     "text": [
      "  grupo  soma_total  media_total\n",
      "0     A    36686994  3594.297443\n",
      "1     B    43517468  3907.467720\n",
      "2     C    37891358  3647.608587\n"
     ]
    }
   ],
   "source": [
    "resumo_grupos = clientes_Com_Informacoes_Do_Pedido.groupby('grupo')['valor_total'].agg(\n",
    "    soma_total='sum',\n",
    "    media_total='mean'\n",
    ").reset_index()\n",
    "\n",
    "print(resumo_grupos)"
   ]
  },
  {
   "cell_type": "code",
   "execution_count": 21,
   "id": "54a80c55",
   "metadata": {},
   "outputs": [
    {
     "name": "stdout",
     "output_type": "stream",
     "text": [
      "       qtd_pedidos  soma_vendas  ticket_medio\n",
      "grupo                                        \n",
      "B             3267     43517468   3907.467720\n",
      "C             3293     37891358   3647.608587\n",
      "A             3440     36686994   3594.297443\n"
     ]
    }
   ],
   "source": [
    "clientes_Com_Informacoes_Do_Pedido['valor_total'] = pd.to_numeric(\n",
    "    clientes_Com_Informacoes_Do_Pedido['valor_total'], errors='coerce'\n",
    ")\n",
    "\n",
    "metricas_grupo = clientes_Com_Informacoes_Do_Pedido.groupby('grupo').agg(\n",
    "    qtd_pedidos=('pedido_id', 'nunique'),\n",
    "    soma_vendas=('valor_total', 'sum'),\n",
    "    ticket_medio=('valor_total', 'mean')\n",
    ")\n",
    "\n",
    "print(metricas_grupo.sort_values(by='soma_vendas', ascending=False))"
   ]
  },
  {
   "cell_type": "markdown",
   "id": "cdc6042b",
   "metadata": {},
   "source": [
    "Levando em consideração o desempenho mostrado  - soma total de vendas e o valor do ticket médio de cada grupo - , podemos notar que o grupo B tem resultados financeiros melhores do que nos demais grupos. Portanto, a minha escolha seria selecionar a funcionalidade adicionada ao Grupo B. "
   ]
  },
  {
   "cell_type": "markdown",
   "id": "aa056350",
   "metadata": {},
   "source": [
    "## Iniciando a 2° pergunta:\n",
    "- De acordo com suas análises, o estado do usuário influencia no valor das\n",
    "vendas?"
   ]
  },
  {
   "cell_type": "markdown",
   "id": "257f754c",
   "metadata": {},
   "source": [
    "### Para descobrimos essa informação, iremos verificar: _Quantidade de pedidos_, _soma de vendas_ e o _valor médio de vendas por estado_:"
   ]
  },
  {
   "cell_type": "code",
   "execution_count": 22,
   "id": "0b573269",
   "metadata": {},
   "outputs": [
    {
     "name": "stdout",
     "output_type": "stream",
     "text": [
      "        qtd_pedidos  soma_vendas  ticket_medio\n",
      "estado                                        \n",
      "SP             4331     51549746   3736.842769\n",
      "RJ             1425     16418701   3678.848532\n",
      "MA             1372     16318003   3751.265057\n",
      "GO             1370     16042441   3693.861616\n",
      "PR              782      9041101   3648.547619\n"
     ]
    }
   ],
   "source": [
    "metricas_estado = clientes_Com_Informacoes_Do_Pedido.groupby('estado').agg(\n",
    "    qtd_pedidos=('pedido_id', 'nunique'),\n",
    "    soma_vendas=('valor_total', 'sum'),\n",
    "    ticket_medio=('valor_total', 'mean')\n",
    ").sort_values(by='soma_vendas', ascending=False)\n",
    "\n",
    "print(metricas_estado.head())"
   ]
  },
  {
   "cell_type": "code",
   "execution_count": 23,
   "id": "ba1c1f8e",
   "metadata": {},
   "outputs": [
    {
     "name": "stdout",
     "output_type": "stream",
     "text": [
      "  estado  qtd_pedidos  soma_vendas  ticket_medio\n",
      "0     SP         4331     51549746   3736.842769\n",
      "1     RJ         1425     16418701   3678.848532\n",
      "2     MA         1372     16318003   3751.265057\n",
      "3     GO         1370     16042441   3693.861616\n",
      "4     PR          782      9041101   3648.547619\n"
     ]
    }
   ],
   "source": [
    "query = \"\"\"\n",
    "SELECT \n",
    "    estado,\n",
    "    COUNT(DISTINCT pedido_id) AS qtd_pedidos,\n",
    "    SUM(valor_total) AS soma_vendas,\n",
    "    AVG(valor_total) AS ticket_medio\n",
    "FROM clientes_Com_Informacoes_Do_Pedido\n",
    "GROUP BY estado\n",
    "ORDER BY soma_vendas DESC\n",
    "\"\"\"\n",
    "\n",
    "metricas_estado_sql = ps(query, locals())\n",
    "\n",
    "\n",
    "print(metricas_estado_sql.head())"
   ]
  },
  {
   "cell_type": "markdown",
   "id": "5c2f1b73",
   "metadata": {},
   "source": [
    "A seguir uma forma mais simplificada para verificarmos apenas o valor total de vendas:"
   ]
  },
  {
   "cell_type": "code",
   "execution_count": 24,
   "id": "4332d9e9",
   "metadata": {},
   "outputs": [
    {
     "name": "stdout",
     "output_type": "stream",
     "text": [
      "  estado  valor_total\n",
      "5     SP     51549746\n",
      "4     RJ     16418701\n",
      "1     MA     16318003\n",
      "0     GO     16042441\n",
      "3     PR      9041101\n"
     ]
    }
   ],
   "source": [
    "top_estados = clientes_Com_Informacoes_Do_Pedido.groupby('estado')['valor_total'] \\\n",
    "    .sum().reset_index().sort_values(by='valor_total', ascending=False)\n",
    "print(top_estados.head())"
   ]
  },
  {
   "cell_type": "code",
   "execution_count": 25,
   "id": "fde3c76e",
   "metadata": {},
   "outputs": [
    {
     "name": "stdout",
     "output_type": "stream",
     "text": [
      "Top estados por valor total de vendas:\n",
      "  estado  valor_total\n",
      "0     SP     51549746\n",
      "1     RJ     16418701\n",
      "2     MA     16318003\n",
      "3     GO     16042441\n",
      "4     PR      9041101\n"
     ]
    }
   ],
   "source": [
    "query_estados = \"\"\"\n",
    "SELECT\n",
    "    estado,\n",
    "    SUM(valor_total) AS valor_total\n",
    "FROM clientes_Com_Informacoes_Do_Pedido\n",
    "GROUP BY estado\n",
    "ORDER BY valor_total DESC\n",
    "LIMIT 5\n",
    "\"\"\"\n",
    "\n",
    "top_estados_sql = ps(query_estados, locals())\n",
    "print(\"Top estados por valor total de vendas:\")\n",
    "print(top_estados_sql)"
   ]
  },
  {
   "cell_type": "markdown",
   "id": "6dcbbc96",
   "metadata": {},
   "source": [
    "### Criação de uma tabela para verificar grupo x estado:"
   ]
  },
  {
   "cell_type": "code",
   "execution_count": 26,
   "id": "ef8b5434",
   "metadata": {},
   "outputs": [
    {
     "name": "stdout",
     "output_type": "stream",
     "text": [
      "grupo     A    B    C\n",
      "estado               \n",
      "GO       51   55   54\n",
      "MA       67   54   49\n",
      "MG       38   30   24\n",
      "PR       34   27   26\n",
      "RJ       59   58   54\n",
      "SP      164  174  182\n"
     ]
    }
   ],
   "source": [
    "\n",
    "tabela_cruzada = clientes_Com_Informacoes_Do_Pedido.pivot_table(\n",
    "    index='estado',\n",
    "    columns='grupo',\n",
    "    values='cliente_id',\n",
    "    aggfunc='nunique',\n",
    "    fill_value=0\n",
    ")\n",
    "\n",
    "print(tabela_cruzada)"
   ]
  },
  {
   "cell_type": "markdown",
   "id": "94acfad5",
   "metadata": {},
   "source": [
    "O estado de São Paulo lidera em valor de vendas com R$35.131045 a frente do 2° estado(Rio de Janeiro), tendo 3x mais quantidade de pedidos e 3x mais clientes."
   ]
  },
  {
   "cell_type": "code",
   "execution_count": 27,
   "id": "9a01cbe4",
   "metadata": {},
   "outputs": [
    {
     "name": "stdout",
     "output_type": "stream",
     "text": [
      "           cidade  valor_total\n",
      "5       Sao Paulo     51549746\n",
      "4  Rio de Janeiro     16418701\n",
      "3        Maranhao     16318003\n",
      "2         Goiania     16042441\n",
      "1        Curitiba      9041101\n",
      "0  Belo Horizonte      8725828\n"
     ]
    }
   ],
   "source": [
    "top_cidades = clientes_Com_Informacoes_Do_Pedido.groupby('cidade')['valor_total'] \\\n",
    "    .sum().reset_index().sort_values(by='valor_total', ascending=False)\n",
    "print(top_cidades)"
   ]
  },
  {
   "cell_type": "markdown",
   "id": "fd14a628",
   "metadata": {},
   "source": []
  },
  {
   "cell_type": "code",
   "execution_count": 28,
   "id": "dcc352c6",
   "metadata": {},
   "outputs": [
    {
     "name": "stdout",
     "output_type": "stream",
     "text": [
      "\n",
      "Top cidades por valor total de vendas:\n",
      "           cidade  valor_total\n",
      "0       Sao Paulo     51549746\n",
      "1  Rio de Janeiro     16418701\n",
      "2        Maranhao     16318003\n",
      "3         Goiania     16042441\n",
      "4        Curitiba      9041101\n",
      "5  Belo Horizonte      8725828\n"
     ]
    }
   ],
   "source": [
    "query_cidades = \"\"\"\n",
    "SELECT\n",
    "    cidade,\n",
    "    SUM(valor_total) AS valor_total\n",
    "FROM clientes_Com_Informacoes_Do_Pedido\n",
    "GROUP BY cidade\n",
    "ORDER BY valor_total DESC\n",
    "\"\"\"\n",
    "\n",
    "top_cidades_sql = ps(query_cidades, locals())\n",
    "print(\"\\nTop cidades por valor total de vendas:\")\n",
    "print(top_cidades_sql)"
   ]
  },
  {
   "cell_type": "markdown",
   "id": "a4acad4a",
   "metadata": {},
   "source": [
    "### Gráfico de barras representando a diferença do valor total de vendas entre as cidades:"
   ]
  },
  {
   "cell_type": "code",
   "execution_count": 29,
   "id": "d12f3851",
   "metadata": {},
   "outputs": [
    {
     "data": {
      "image/png": "[encoded data removed]",
      "text/plain": [
       "<Figure size 800x400 with 1 Axes>"
      ]
     },
     "metadata": {},
     "output_type": "display_data"
    }
   ],
   "source": [
    "plt.figure(figsize=(8,4))\n",
    "plt.barh(\n",
    "    top_cidades['cidade'], \n",
    "    top_cidades['valor_total'], \n",
    "    color='skyblue', edgecolor='black'\n",
    ")\n",
    "\n",
    "plt.title('Cidades com Maior Valor Total de Vendas')\n",
    "plt.xlabel('Valor Total de Vendas')\n",
    "plt.ylabel('Cidade')\n",
    "\n",
    "plt.gca().invert_yaxis()\n",
    "\n",
    "for i, v in enumerate(top_cidades['valor_total']):\n",
    "    plt.text(v, i, f'{v:,.2f}', va='center', ha='left', fontsize=9)\n",
    "\n",
    "plt.tight_layout()\n",
    "plt.show()"
   ]
  },
  {
   "cell_type": "markdown",
   "id": "73890990",
   "metadata": {},
   "source": [
    "## Pergunta 4:\n",
    "- A categoria do produto ou quantidade de itens do pedido influencia no status\n",
    "no pedido?"
   ]
  },
  {
   "cell_type": "markdown",
   "id": "8be8cbfe",
   "metadata": {},
   "source": [
    "Para identificarmos as informações irei realizar um merge entre as tabelas para obtermos os dados:"
   ]
  },
  {
   "cell_type": "code",
   "execution_count": 30,
   "id": "d0c7e4c4",
   "metadata": {},
   "outputs": [
    {
     "name": "stdout",
     "output_type": "stream",
     "text": [
      "      categoria      status  qtd_pedidos\n",
      "25       Roupas  Confirmado         4195\n",
      "16  Eletrônicos  Confirmado         2785\n",
      "22       Livros  Confirmado         2521\n",
      "19     Esportes  Confirmado         1609\n",
      "4    Brinquedos  Confirmado         1390\n",
      "7     Decoraçao  Confirmado         1282\n",
      "13  Eletronicos  Confirmado         1155\n",
      "10    Decoração  Confirmado         1129\n",
      "24       Roupas   CANCELADO         1091\n",
      "26       Roupas     Pending         1086\n",
      "1     Alimentos  Confirmado          993\n",
      "17  Eletrônicos     Pending          690\n",
      "15  Eletrônicos   CANCELADO          682\n",
      "21       Livros   CANCELADO          629\n",
      "23       Livros     Pending          620\n",
      "20     Esportes     Pending          419\n",
      "18     Esportes   CANCELADO          391\n",
      "6     Decoraçao   CANCELADO          343\n",
      "5    Brinquedos     Pending          337\n",
      "8     Decoraçao     Pending          329\n",
      "3    Brinquedos   CANCELADO          312\n",
      "14  Eletronicos     Pending          298\n",
      "12  Eletronicos   CANCELADO          295\n",
      "11    Decoração     Pending          294\n",
      "9     Decoração   CANCELADO          269\n",
      "0     Alimentos   CANCELADO          238\n",
      "2     Alimentos     Pending          228\n"
     ]
    }
   ],
   "source": [
    "dados_com_categoria = pd.merge(\n",
    "    clientes_Com_Informacoes_Do_Pedido,\n",
    "    listaDeProdutos[['produto_id', 'categoria']],\n",
    "    on='produto_id',\n",
    "    how='left'\n",
    ")\n",
    "\n",
    "categoria_status = dados_com_categoria.groupby(['categoria', 'status']) \\\n",
    "    .agg(qtd_pedidos=('pedido_id', 'nunique')).reset_index()\n",
    "\n",
    "print(categoria_status.sort_values(by='qtd_pedidos', ascending=False))"
   ]
  },
  {
   "cell_type": "markdown",
   "id": "e7288a33",
   "metadata": {},
   "source": [
    "Podemos verificar que os dados também não estão padronizados como ocorreu lá no início. Iremos novamente utilizar a função _normalizar_ criada anteriormente para mantermos um único tipo de dado sem distinções entre palavras com acento e sem acento."
   ]
  },
  {
   "cell_type": "code",
   "execution_count": 31,
   "id": "10e70522",
   "metadata": {},
   "outputs": [
    {
     "name": "stdout",
     "output_type": "stream",
     "text": [
      "      categoria      status  qtd_pedidos\n",
      "19       Roupas  Confirmado         4195\n",
      "10  Eletronicos  Confirmado         3493\n",
      "16       Livros  Confirmado         2521\n",
      "7     Decoracao  Confirmado         2222\n",
      "13     Esportes  Confirmado         1609\n",
      "4    Brinquedos  Confirmado         1390\n",
      "18       Roupas   CANCELADO         1091\n",
      "20       Roupas     Pending         1086\n",
      "1     Alimentos  Confirmado          993\n",
      "11  Eletronicos     Pending          887\n",
      "9   Eletronicos   CANCELADO          870\n",
      "15       Livros   CANCELADO          629\n",
      "17       Livros     Pending          620\n",
      "8     Decoracao     Pending          572\n",
      "6     Decoracao   CANCELADO          561\n",
      "14     Esportes     Pending          419\n",
      "12     Esportes   CANCELADO          391\n",
      "5    Brinquedos     Pending          337\n",
      "3    Brinquedos   CANCELADO          312\n",
      "0     Alimentos   CANCELADO          238\n",
      "2     Alimentos     Pending          228\n"
     ]
    }
   ],
   "source": [
    "# Normaliza a coluna 'categoria'\n",
    "dados_com_categoria['categoria_normalizada'] = dados_com_categoria['categoria'].apply(normalizar)\n",
    "\n",
    "# Dicionário para manter forma oficial (sem acento, padronizada)\n",
    "mapeamento_categoria = {\n",
    "    \"eletronicos\": \"Eletronicos\",\n",
    "    \"moveis\": \"Moveis\",\n",
    "    \"informatica\": \"Informatica\",\n",
    "    \"eletrodomesticos\": \"Eletrodomesticos\",\n",
    "    \"decoraçao\" : \"Decoracao\",\n",
    "    # Adicione outras categorias conforme necessário\n",
    "}\n",
    "\n",
    "# Substitui pela forma oficial\n",
    "dados_com_categoria['categoria'] = dados_com_categoria['categoria_normalizada'].map(\n",
    "    mapeamento_categoria\n",
    ").fillna(dados_com_categoria['categoria_normalizada'].str.title())\n",
    "\n",
    "# Remove coluna auxiliar\n",
    "dados_com_categoria = dados_com_categoria.drop(columns=['categoria_normalizada'])\n",
    "\n",
    "# Agrupamento agora padronizado e sem duplicidade de informações\n",
    "categoria_status = dados_com_categoria.groupby(['categoria', 'status']) \\\n",
    "    .agg(qtd_pedidos=('pedido_id', 'nunique')).reset_index()\n",
    "\n",
    "print(categoria_status.sort_values(by='qtd_pedidos', ascending=False))"
   ]
  },
  {
   "cell_type": "markdown",
   "id": "14317c09",
   "metadata": {},
   "source": [
    "### Criação de uma tabela com as categorias com pedidos cancelados por estado:"
   ]
  },
  {
   "cell_type": "code",
   "execution_count": 32,
   "id": "b9d423fb",
   "metadata": {},
   "outputs": [
    {
     "name": "stdout",
     "output_type": "stream",
     "text": [
      "categoria  Alimentos  Brinquedos  Decoracao  Eletronicos  Esportes  Livros  \\\n",
      "estado                                                                       \n",
      "GO                25          41         70          113        62      86   \n",
      "MA                24          42         81          122        43      83   \n",
      "MG                18          28         39           61        39      41   \n",
      "PR                30          22         38           74        33      53   \n",
      "RJ                40          42         85          134        56     101   \n",
      "SP               101         137        248          366       158     265   \n",
      "\n",
      "categoria  Roupas  \n",
      "estado             \n",
      "GO            139  \n",
      "MA            137  \n",
      "MG             97  \n",
      "PR             74  \n",
      "RJ            153  \n",
      "SP            491  \n"
     ]
    }
   ],
   "source": [
    "# Filtra apenas pedidos CANCELADOS (todas as categorias)\n",
    "cancelados = dados_com_categoria[dados_com_categoria['status'] == 'CANCELADO']\n",
    "\n",
    "# Cria a pivot table: estados x categorias\n",
    "tabela_cancelados = cancelados.pivot_table(\n",
    "    index='estado',\n",
    "    columns='categoria',\n",
    "    values='pedido_id',\n",
    "    aggfunc='nunique',  \n",
    "    fill_value=0\n",
    ")\n",
    "\n",
    "print(tabela_cancelados)"
   ]
  },
  {
   "cell_type": "markdown",
   "id": "e9238a5f",
   "metadata": {},
   "source": [
    "Com os dados já padronizados podemos assumir que sim, as categorias com uma quantidade de pedidos relativamente menor(Ex: Brinquedos, Alimentos e Esportes) tem menos chances de serem canceladas em comparações as categorias mais pedidas como Roupas e Eletronicos."
   ]
  },
  {
   "cell_type": "markdown",
   "id": "f34c2cea",
   "metadata": {},
   "source": [
    "## Métricas adicionais:\n",
    "- Visualização dos 5 estados com mais pedidos em status de \"Confirmado\" para a categoria mais vendida(Roupas)"
   ]
  },
  {
   "cell_type": "code",
   "execution_count": 33,
   "id": "74fe85e5",
   "metadata": {},
   "outputs": [
    {
     "data": {
      "image/png": "[encoded data removed]",
      "text/plain": [
       "<Figure size 640x480 with 1 Axes>"
      ]
     },
     "metadata": {},
     "output_type": "display_data"
    }
   ],
   "source": [
    "# Filtra apenas categoria = Roupas e status = Confirmado\n",
    "roupas_confirmados = dados_com_categoria[\n",
    "    (dados_com_categoria['categoria'] == 'Roupas') &\n",
    "    (dados_com_categoria['status'] == 'Confirmado')\n",
    "]\n",
    "\n",
    "# Agrupa por estado e conta pedidos\n",
    "pedidos_por_estado = roupas_confirmados.groupby('estado') \\\n",
    "    .agg(qtd_pedidos=('pedido_id', 'nunique')) \\\n",
    "    .reset_index()\n",
    "\n",
    "top5_estados = pedidos_por_estado.sort_values(\n",
    "    by='qtd_pedidos', ascending=False\n",
    ").head(5)\n",
    "\n",
    "markerline, stemlines, baseline = plt.stem(\n",
    "    top5_estados['estado'], \n",
    "    top5_estados['qtd_pedidos'],\n",
    "\n",
    ")\n",
    "\n",
    "# Customização\n",
    "plt.setp(markerline, markersize=8, markerfacecolor='blue')\n",
    "plt.setp(stemlines, linewidth=2, color='skyblue')\n",
    "\n",
    "plt.title('Top 5 Estados - Pedidos Confirmados (Categoria: Roupas)')\n",
    "plt.xlabel('Estado')\n",
    "plt.ylabel('Quantidade de Pedidos')\n",
    "plt.tight_layout()\n",
    "plt.show()"
   ]
  },
  {
   "cell_type": "markdown",
   "id": "d2055e35",
   "metadata": {},
   "source": [
    "De acordo com os resultados, podemos verificar que o estado de São Paulo foi o que mais vendeu na categoria roupa, tendo um total de 1750 pedidos confirmados até o momento."
   ]
  },
  {
   "cell_type": "markdown",
   "id": "72c2b724",
   "metadata": {},
   "source": [
    "## Análise final:\n",
    "Portanto , ao final dessa análise podemos concluir que a base de clientes é majoritariamente do estado de SP, que sua categoria favorita de compras são roupas e que os clientes do grupo B tiveram um desempenho melhor para a margem de lucro da empresa."
   ]
  }
 ],
 "metadata": {
  "kernelspec": {
   "display_name": "base",
   "language": "python",
   "name": "python3"
  },
  "language_info": {
   "codemirror_mode": {
    "name": "ipython",
    "version": 3
   },
   "file_extension": ".py",
   "mimetype": "text/x-python",
   "name": "python",
   "nbconvert_exporter": "python",
   "pygments_lexer": "ipython3",
   "version": "3.12.7"
  }
 },
 "nbformat": 4,
 "nbformat_minor": 5
}
